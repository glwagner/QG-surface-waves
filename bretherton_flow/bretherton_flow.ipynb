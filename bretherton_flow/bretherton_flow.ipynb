{
 "cells": [
  {
   "cell_type": "code",
   "execution_count": 1,
   "metadata": {},
   "outputs": [],
   "source": [
    "import os\n",
    "import numpy as np\n",
    "import matplotlib.pyplot as plt \n",
    "\n",
    "from dedalus import public as de\n",
    "from dedalus.extras import plot_tools"
   ]
  },
  {
   "cell_type": "code",
   "execution_count": 130,
   "metadata": {},
   "outputs": [],
   "source": [
    "# Domain\n",
    "L = 1\n",
    "H = 0.1\n",
    "\n",
    "# Environment: R = (N * h / f)^2 = 1 ?\n",
    "f = 1.0\n",
    "N = 100.0\n",
    "\n",
    "# Wave field\n",
    "h  = 0.01 \n",
    "lx = 0.1 \n",
    "ly = 0.05 \n",
    "US = 1       # Arbitrary because problem is linear\n",
    "\n",
    "\n",
    "# Numerics\n",
    "nx = 32\n",
    "nz = 32"
   ]
  },
  {
   "cell_type": "code",
   "execution_count": 131,
   "metadata": {},
   "outputs": [],
   "source": [
    "# Create bases and domain\n",
    "x_basis = de.Fourier('x',   nx, interval=(-L/2, L/2))\n",
    "y_basis = de.Fourier('y',   nx, interval=(-L/2, L/2))\n",
    "z_basis = de.Chebyshev('z', nz, interval=(-H, 0)) \n",
    "\n",
    "domain = de.Domain([x_basis, y_basis, z_basis], grid_dtype=np.float64)"
   ]
  },
  {
   "cell_type": "code",
   "execution_count": 132,
   "metadata": {},
   "outputs": [
    {
     "name": "stdout",
     "output_type": "stream",
     "text": [
      "2020-04-04 00:01:24,876 pencil 0/1 INFO :: Building pencil matrix 1/496 (~0%) Elapsed: 0s, Remaining: 4s, Rate: 1.1e+02/s\n",
      "2020-04-04 00:01:25,211 pencil 0/1 INFO :: Building pencil matrix 50/496 (~10%) Elapsed: 0s, Remaining: 3s, Rate: 1.5e+02/s\n",
      "2020-04-04 00:01:25,564 pencil 0/1 INFO :: Building pencil matrix 100/496 (~20%) Elapsed: 1s, Remaining: 3s, Rate: 1.4e+02/s\n",
      "2020-04-04 00:01:25,938 pencil 0/1 INFO :: Building pencil matrix 150/496 (~30%) Elapsed: 1s, Remaining: 2s, Rate: 1.4e+02/s\n",
      "2020-04-04 00:01:26,315 pencil 0/1 INFO :: Building pencil matrix 200/496 (~40%) Elapsed: 1s, Remaining: 2s, Rate: 1.4e+02/s\n",
      "2020-04-04 00:01:26,690 pencil 0/1 INFO :: Building pencil matrix 250/496 (~50%) Elapsed: 2s, Remaining: 2s, Rate: 1.4e+02/s\n",
      "2020-04-04 00:01:27,036 pencil 0/1 INFO :: Building pencil matrix 300/496 (~60%) Elapsed: 2s, Remaining: 1s, Rate: 1.4e+02/s\n",
      "2020-04-04 00:01:27,383 pencil 0/1 INFO :: Building pencil matrix 350/496 (~71%) Elapsed: 3s, Remaining: 1s, Rate: 1.4e+02/s\n",
      "2020-04-04 00:01:27,726 pencil 0/1 INFO :: Building pencil matrix 400/496 (~81%) Elapsed: 3s, Remaining: 1s, Rate: 1.4e+02/s\n",
      "2020-04-04 00:01:28,046 pencil 0/1 INFO :: Building pencil matrix 450/496 (~91%) Elapsed: 3s, Remaining: 0s, Rate: 1.4e+02/s\n",
      "2020-04-04 00:01:28,345 pencil 0/1 INFO :: Building pencil matrix 496/496 (~100%) Elapsed: 3s, Remaining: 0s, Rate: 1.4e+02/s\n"
     ]
    }
   ],
   "source": [
    "problem = de.LBVP(domain, variables=['ψ', 'ψz'])\n",
    "\n",
    "problem.parameters[\"h\"] = h \n",
    "problem.parameters[\"lx\"] = lx\n",
    "problem.parameters[\"ly\"] = ly\n",
    "problem.parameters[\"f\"] = f \n",
    "problem.parameters[\"N\"] = N \n",
    "problem.parameters[\"US\"] = US\n",
    "\n",
    "problem.substitutions[\"uSy\"] = \"- y / ly**2 * US * exp(z/h - x**2 / (2 * lx**2) - y**2 / (2 * ly**2))\"\n",
    "\n",
    "problem.add_equation(\"dx(dx(ψ)) + dy(dy(ψ)) + f**2 / N**2 * dz(ψz) = - uSy\",\n",
    "                     condition=\"(nx != 0) or (ny != 0)\")\n",
    "\n",
    "problem.add_equation(\"ψ = 0\", condition=\"(nx == 0) and (ny == 0)\")\n",
    "problem.add_equation(\"ψz = 0\", condition=\"(nx == 0) and (ny == 0)\")\n",
    "problem.add_equation(\"dz(ψ) - ψz = 0\", condition=\"(nx != 0) or (ny != 0)\")\n",
    "\n",
    "problem.add_bc(\"left(ψz) = 0\", condition=\"(nx != 0) or (ny != 0)\")\n",
    "problem.add_bc(\"right(ψz) = 0\", condition=\"(nx != 0) or (ny != 0)\")\n",
    "\n",
    "# Build solver\n",
    "solver = problem.build_solver()\n",
    "solver.solve()"
   ]
  },
  {
   "cell_type": "code",
   "execution_count": 133,
   "metadata": {},
   "outputs": [],
   "source": [
    "ψ = solver.state['ψ']\n",
    "\n",
    "u_op = - de.operators.differentiate(ψ, y=1)\n",
    "v_op =   de.operators.differentiate(ψ, x=1)\n",
    "\n",
    "u = u_op.evaluate()\n",
    "v = v_op.evaluate()"
   ]
  },
  {
   "cell_type": "code",
   "execution_count": 230,
   "metadata": {},
   "outputs": [
    {
     "data": {
      "image/png": "[encoded data removed]",
      "text/plain": [
       "<Figure size 720x432 with 3 Axes>"
      ]
     },
     "metadata": {
      "needs_background": "light"
     },
     "output_type": "display_data"
    },
    {
     "data": {
      "text/plain": [
       "<Figure size 432x288 with 0 Axes>"
      ]
     },
     "metadata": {},
     "output_type": "display_data"
    }
   ],
   "source": [
    "# Plot solution\n",
    "fig, axs = plt.subplots(ncols=2, figsize=(10, 6)) \n",
    "scale = 4 \n",
    "\n",
    "x = domain.grid(0, scales=scale)\n",
    "y = domain.grid(1, scales=scale)\n",
    "z = domain.grid(2, scales=scale)\n",
    "\n",
    "X, Y = np.meshgrid(x, y)\n",
    "\n",
    "Yz, Zy = np.meshgrid(y, z)\n",
    "\n",
    "ψ.set_scales(scale)\n",
    "ψ.require_grid_space()\n",
    "\n",
    "u.set_scales(scale)\n",
    "u.require_grid_space()\n",
    "\n",
    "v.set_scales(scale)\n",
    "v.require_grid_space()\n",
    "\n",
    "uS = US * np.exp(z/h - x**2 / (2 * lx**2) - y**2 / (2 * ly**2))\n",
    "\n",
    "uM = domain.new_field(name='uM')\n",
    "vM = domain.new_field(name='vM')\n",
    "\n",
    "uM.set_scales(scale)\n",
    "vM.set_scales(scale)\n",
    "\n",
    "uM.require_grid_space()\n",
    "vM.require_grid_space()\n",
    "\n",
    "uM['g'] = uS - u['g']\n",
    "vM['g'] = - v['g']\n",
    "\n",
    "ψ_surface_op = de.operators.interpolate(ψ, z=0)\n",
    "u_surface_op = de.operators.interpolate(u, z=0)\n",
    "v_surface_op = de.operators.interpolate(v, z=0)\n",
    "\n",
    "uM_surface_op = de.operators.interpolate(uM, z=0)\n",
    "\n",
    "uM_surface = uM_surface_op.evaluate()\n",
    "u_surface = u_surface_op.evaluate()\n",
    "ψ_surface = ψ_surface_op.evaluate()\n",
    "\n",
    "uM_surface.set_scales(scale)\n",
    "ψ_surface.set_scales(scale)\n",
    "u_surface.set_scales(scale)\n",
    "\n",
    "umax = np.max(np.abs(u['g']))\n",
    "ψmax = np.max(np.abs(ψ['g']))\n",
    "\n",
    "levs = np.array([-1, -0.9, -0.8, -0.7, -0.6, -0.5, -0.4, -0.3, -0.2, -0.1, -0.01, \n",
    "                 0.01, 0.1, 0.2, 0.3, 0.4, 0.5, 0.6, 0.7, 0.8, 0.9, 1.0]) * umax\n",
    "\n",
    "plt.sca(axs[0])\n",
    "im0 = plt.contourf(X, Y, u_surface['g'][:, :, -1].T / US, cmap=\"RdBu_r\", \n",
    "                  levels=levs, vmin=-umax, vmax=umax)\n",
    "\n",
    "plt.contour(X, Y, ψ_surface['g'][:, :, -1].T, levels=np.linspace(-ψmax, ψmax, num=6), \n",
    "            colors=\"k\", alpha=0.2)\n",
    "\n",
    "plt.sca(axs[1])\n",
    "im1 = plt.contourf(X, Y, uM_surface['g'][:, :, -1].T / US, cmap=\"RdBu_r\",\n",
    "                   levels=levs, vmin=-umax, vmax=umax)\n",
    "\n",
    "cb = plt.colorbar(im1, ax=axs.ravel().tolist(), shrink=0.95, orientation=\"horizontal\")\n",
    "\n",
    "axs[0].set_aspect(1)\n",
    "axs[1].set_aspect(1)\n",
    "\n",
    "axs[0].set_title(\"$ \\\\tilde{u} $\")\n",
    "axs[1].set_title(\"$ u^\\\\dagger $\")\n",
    "\n",
    "plt.pause(0.1)\n",
    "\n",
    "plt.gcf()\n",
    "plt.savefig('wave_induced_mediated.png', bbox_inches='tight', dpi=480)"
   ]
  },
  {
   "cell_type": "code",
   "execution_count": 223,
   "metadata": {},
   "outputs": [
    {
     "data": {
      "image/png": "[encoded data removed]",
      "text/plain": [
       "<Figure size 1296x288 with 3 Axes>"
      ]
     },
     "metadata": {
      "needs_background": "light"
     },
     "output_type": "display_data"
    }
   ],
   "source": [
    "fig, axs = plt.subplots(nrows=2, figsize=(18, 4), sharex=True) \n",
    "\n",
    "u_meridian_op = de.operators.interpolate(u, x=0)\n",
    "u_meridian = u_meridian_op.evaluate()\n",
    "u_meridian.set_scales(scale)\n",
    "\n",
    "uM_meridian_op = de.operators.interpolate(uM, x=0)\n",
    "uM_meridian = uM_meridian_op.evaluate()\n",
    "uM_meridian.set_scales(scale)\n",
    "\n",
    "levs = np.array([-1, -0.5, -0.4, -0.3, -0.2, -0.1, -0.01, 0.01, 0.1, 0.2, 0.3, 0.4, 0.5, 1.0]) * umax\n",
    "\n",
    "plt.sca(axs[0])\n",
    "im2 = plt.contourf(Yz, Zy, u_meridian['g'][-1, :, :].T, cmap=\"RdBu_r\", vmin=-umax/2, vmax=umax/2,\n",
    "                   levels=levs)\n",
    "\n",
    "plt.text(0.01, 0.04, '$ \\\\tilde u $', horizontalalignment='left',\n",
    "         verticalalignment='bottom', transform=axs[0].transAxes, fontsize=16)\n",
    "\n",
    "plt.sca(axs[1])\n",
    "im2 = plt.contourf(Yz, Zy, uM_meridian['g'][32, :, :].T, cmap=\"RdBu_r\", vmin=-umax/2, vmax=umax/2,\n",
    "                   levels=levs)\n",
    "\n",
    "plt.text(0.01, 0.04, '$ u^\\\\dagger $', horizontalalignment='left',\n",
    "         verticalalignment='bottom', transform=axs[1].transAxes, fontsize=16)\n",
    "\n",
    "axs[0].set_ylim(-0.05, 0.00)\n",
    "axs[1].set_ylim(-0.05, 0.00)\n",
    "\n",
    "axs[0].set_xlim(-0.25, 0.25)\n",
    "axs[1].set_xlim(-0.25, 0.25)\n",
    "\n",
    "axs[0].tick_params(bottom=False, labelbottom=False)\n",
    "axs[0].set_aspect(1)\n",
    "axs[1].set_aspect(1)\n",
    "\n",
    "axs[0].set_ylabel(\"$ z $\")\n",
    "axs[1].set_ylabel(\"$ z $\")\n",
    "axs[1].set_xlabel(\"$ y $\")\n",
    "\n",
    "cbar = fig.colorbar(im2, ax=axs.ravel().tolist(), shrink=0.95)"
   ]
  },
  {
   "cell_type": "code",
   "execution_count": 164,
   "metadata": {},
   "outputs": [
    {
     "data": {
      "text/plain": [
       "(128, 128, 128)"
      ]
     },
     "execution_count": 164,
     "metadata": {},
     "output_type": "execute_result"
    }
   ],
   "source": [
    "uM.shape\n"
   ]
  },
  {
   "cell_type": "code",
   "execution_count": null,
   "metadata": {},
   "outputs": [],
   "source": []
  }
 ],
 "metadata": {
  "kernelspec": {
   "display_name": "Python 3",
   "language": "python",
   "name": "python3"
  },
  "language_info": {
   "codemirror_mode": {
    "name": "ipython",
    "version": 3
   },
   "file_extension": ".py",
   "mimetype": "text/x-python",
   "name": "python",
   "nbconvert_exporter": "python",
   "pygments_lexer": "ipython3",
   "version": "3.8.2"
  }
 },
 "nbformat": 4,
 "nbformat_minor": 4
}

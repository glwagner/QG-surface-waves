{
 "cells": [
  {
   "cell_type": "code",
   "execution_count": 9,
   "metadata": {},
   "outputs": [],
   "source": [
    "import os\n",
    "import numpy as np\n",
    "import matplotlib.pyplot as plt \n",
    "\n",
    "from dedalus import public as de\n",
    "from dedalus.extras import plot_tools\n",
    "from dedalus.extras.plot_tools import plot_bot_2d"
   ]
  },
  {
   "cell_type": "code",
   "execution_count": 29,
   "metadata": {},
   "outputs": [],
   "source": [
    "# Domain\n",
    "L = 2 * np.pi\n",
    "H = L\n",
    "\n",
    "nx = 128\n",
    "nz = 128"
   ]
  },
  {
   "cell_type": "code",
   "execution_count": 30,
   "metadata": {},
   "outputs": [],
   "source": [
    "# Create bases and domain\n",
    "x_basis = de.Fourier('x',   nx, interval=(-L/2, L/2))\n",
    "z_basis = de.Chebyshev('z', nz, interval=(-H, 0)) \n",
    "\n",
    "domain = de.Domain([x_basis, z_basis], grid_dtype=np.float64)"
   ]
  },
  {
   "cell_type": "code",
   "execution_count": 33,
   "metadata": {},
   "outputs": [
    {
     "name": "stdout",
     "output_type": "stream",
     "text": [
      "2020-04-06 11:48:54,543 pencil 0/1 INFO :: Building pencil matrix 1/64 (~2%) Elapsed: 0s, Remaining: 1s, Rate: 9.5e+01/s\n",
      "2020-04-06 11:48:54,603 pencil 0/1 INFO :: Building pencil matrix 7/64 (~11%) Elapsed: 0s, Remaining: 1s, Rate: 9.9e+01/s\n",
      "2020-04-06 11:48:54,658 pencil 0/1 INFO :: Building pencil matrix 14/64 (~22%) Elapsed: 0s, Remaining: 0s, Rate: 1.1e+02/s\n",
      "2020-04-06 11:48:54,711 pencil 0/1 INFO :: Building pencil matrix 21/64 (~33%) Elapsed: 0s, Remaining: 0s, Rate: 1.2e+02/s\n",
      "2020-04-06 11:48:54,761 pencil 0/1 INFO :: Building pencil matrix 28/64 (~44%) Elapsed: 0s, Remaining: 0s, Rate: 1.2e+02/s\n",
      "2020-04-06 11:48:54,811 pencil 0/1 INFO :: Building pencil matrix 35/64 (~55%) Elapsed: 0s, Remaining: 0s, Rate: 1.3e+02/s\n",
      "2020-04-06 11:48:54,864 pencil 0/1 INFO :: Building pencil matrix 42/64 (~66%) Elapsed: 0s, Remaining: 0s, Rate: 1.3e+02/s\n",
      "2020-04-06 11:48:54,912 pencil 0/1 INFO :: Building pencil matrix 49/64 (~77%) Elapsed: 0s, Remaining: 0s, Rate: 1.3e+02/s\n",
      "2020-04-06 11:48:54,963 pencil 0/1 INFO :: Building pencil matrix 56/64 (~88%) Elapsed: 0s, Remaining: 0s, Rate: 1.3e+02/s\n",
      "2020-04-06 11:48:55,014 pencil 0/1 INFO :: Building pencil matrix 63/64 (~98%) Elapsed: 0s, Remaining: 0s, Rate: 1.3e+02/s\n",
      "2020-04-06 11:48:55,023 pencil 0/1 INFO :: Building pencil matrix 64/64 (~100%) Elapsed: 0s, Remaining: 0s, Rate: 1.3e+02/s\n"
     ]
    },
    {
     "data": {
      "text/plain": [
       "(<matplotlib.axes._axes.Axes at 0x1393e38b0>,\n",
       " <matplotlib.axes._axes.Axes at 0x13940cdc0>)"
      ]
     },
     "execution_count": 33,
     "metadata": {},
     "output_type": "execute_result"
    },
    {
     "data": {
      "image/png": "[encoded data removed]",
      "text/plain": [
       "<Figure size 432x288 with 3 Axes>"
      ]
     },
     "metadata": {
      "needs_background": "light"
     },
     "output_type": "display_data"
    }
   ],
   "source": [
    "problem = de.LBVP(domain, variables=['ψ', 'ψz'])\n",
    "\n",
    "problem.add_equation(\"dx(dx(ψ)) + dz(ψz) = 0\",\n",
    "                     condition=\"(nx != 0)\")\n",
    "\n",
    "problem.add_equation(\"ψ = 0\", condition=\"(nx == 0)\")\n",
    "problem.add_equation(\"ψz = 0\", condition=\"(nx == 0)\")\n",
    "problem.add_equation(\"dz(ψ) - ψz = 0\", condition=\"(nx != 0)\")\n",
    "\n",
    "problem.add_bc(\"left(ψz) = 0\", condition=\"(nx != 0)\")\n",
    "problem.add_bc(\"right(ψz) = sin(10*x)\", condition=\"(nx != 0)\")\n",
    "\n",
    "# Build solver\n",
    "solver = problem.build_solver()\n",
    "solver.solve()\n",
    "\n",
    "ψ = solver.state['ψ']\n",
    "ψ.require_grid_space()\n",
    "plot_bot_2d(ψ)"
   ]
  },
  {
   "cell_type": "code",
   "execution_count": null,
   "metadata": {},
   "outputs": [],
   "source": []
  },
  {
   "cell_type": "code",
   "execution_count": null,
   "metadata": {},
   "outputs": [],
   "source": []
  }
 ],
 "metadata": {
  "kernelspec": {
   "display_name": "Python 3",
   "language": "python",
   "name": "python3"
  },
  "language_info": {
   "codemirror_mode": {
    "name": "ipython",
    "version": 3
   },
   "file_extension": ".py",
   "mimetype": "text/x-python",
   "name": "python",
   "nbconvert_exporter": "python",
   "pygments_lexer": "ipython3",
   "version": "3.8.2"
  }
 },
 "nbformat": 4,
 "nbformat_minor": 4
}

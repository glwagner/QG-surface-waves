{
 "cells": [
  {
   "cell_type": "code",
   "execution_count": 13,
   "metadata": {},
   "outputs": [
    {
     "name": "stdout",
     "output_type": "stream",
     "text": [
      "√(g * k) = 0.8975979010256552\n",
      "ϵ = (a ^ 2 * k ^ 2 * √(g * k)) / f = 968.7040369680572\n",
      "a * k = 0.3285145736699946\n",
      "phase_speed = σ / k = 10.929169942120454\n",
      "group_speed = phase_speed / 2 = 5.464584971060227\n",
      "distance = (((4π) / f) * group_speed) / 1000 = 686.7\n"
     ]
    },
    {
     "data": {
      "text/plain": [
       "686.7"
      ]
     },
     "execution_count": 13,
     "metadata": {},
     "output_type": "execute_result"
    }
   ],
   "source": [
    "second = 1.0\n",
    "minute = 60second\n",
    "hour = 60minute\n",
    "day = 24hour\n",
    "\n",
    "a = 4\n",
    "g = 9.81\n",
    "σ = 2π / 7 # σ = sqrt(g*k)\n",
    "k = σ^2 / g\n",
    "f = 1e-4\n",
    "\n",
    "@show √(g * k)\n",
    "@show ϵ = a^2 * k^2 * √(g * k) / f\n",
    "@show a * k\n",
    "\n",
    "@show phase_speed = σ / k\n",
    "@show group_speed = phase_speed / 2\n",
    "\n",
    "@show distance = 4π / f * group_speed / 1000 # km"
   ]
  },
  {
   "cell_type": "code",
   "execution_count": null,
   "metadata": {},
   "outputs": [],
   "source": []
  }
 ],
 "metadata": {
  "kernelspec": {
   "display_name": "Julia 1.3.1",
   "language": "julia",
   "name": "julia-1.3"
  },
  "language_info": {
   "file_extension": ".jl",
   "mimetype": "application/julia",
   "name": "julia",
   "version": "1.3.1"
  }
 },
 "nbformat": 4,
 "nbformat_minor": 4
}

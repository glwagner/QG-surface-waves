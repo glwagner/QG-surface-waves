{
 "cells": [
  {
   "cell_type": "code",
   "execution_count": 1,
   "metadata": {},
   "outputs": [],
   "source": [
    "import os\n",
    "import numpy as np\n",
    "import matplotlib.pyplot as plt \n",
    "\n",
    "from dedalus import public as de\n",
    "from dedalus.extras import plot_tools"
   ]
  },
  {
   "cell_type": "code",
   "execution_count": 2,
   "metadata": {},
   "outputs": [],
   "source": [
    "# Domain\n",
    "L = 20\n",
    "h = 1\n",
    "\n",
    "# Wavenumber\n",
    "k = 0.1\n",
    "\n",
    "# Numerics\n",
    "nx = 32\n",
    "nz = 32"
   ]
  },
  {
   "cell_type": "code",
   "execution_count": 3,
   "metadata": {},
   "outputs": [],
   "source": [
    "# Create bases and domain\n",
    "x_basis = de.Fourier('x',   nx, interval=(-L/2, L/2))\n",
    "#y_basis = de.Fourier('y',   nx, interval=(-L/2, L/2))\n",
    "z_basis = de.Chebyshev('z', nz, interval=(-h, 0)) \n",
    "\n",
    "domain = de.Domain([x_basis, z_basis], grid_dtype=np.float64)"
   ]
  },
  {
   "cell_type": "markdown",
   "metadata": {},
   "source": [
    "# The McIntyre flow\n",
    "\n",
    "We solve Laplace's equation for $\\phi_2$ with a Neumann bottom boundary condition and a top boundary condition\n",
    "\n",
    "$$ \\phi_{2z} = \\frac{\\sigma_k}{g} \\partial_x \\overline{ | \\boldsymbol{u}_1 |^2 }$$\n",
    "\n",
    "at $z=0$.\n",
    "\n",
    "But $\\boldsymbol{u} = \\boldsymbol{\\nabla} \\phi_1$, where\n",
    "\n",
    "$$ \\phi_1(x, z, t) = a e^{-x^2 / 2 \\ell^2} \\cos( \\left [ kx - (\\sigma - k \\sigma_k ) t \\right ] \\frac{\\cosh k(z+h)}{\\cosh kh} $$\n",
    "\n",
    "This means that\n",
    "\n",
    "$$ u_1 \\approx - a k e^{-x^2 / 2 \\ell^2} \\sin \\left [ kx - (\\sigma - k \\sigma_k) t \\right ] \\frac{\\cosh{[k(z+h)]}}{\\cosh kh}\n",
    "\\qquad \\text{and} \\qquad \n",
    "w_1 = a k e^{-x^2 / 2 \\ell^2} \\cos \\left [ kx - (\\sigma - k \\sigma_k ) t \\right ] \\frac{\\sinh{[k(z+h)]}}{\\cosh kh}$$. \n",
    "\n",
    "Therefore\n",
    "\n",
    "$$ | \\boldsymbol{u}_1 |^2 = u_1^2 + w_1^2 = \\frac{1}{2} (a k)^2 e^{-x^2 / \\ell^2} \\frac{\\cosh{[2k(z+h)]}}{\\cosh^2(kh)}$$\n",
    "\n",
    "and\n",
    "\n",
    "$$ \\partial_x | \\boldsymbol{u}_1 |^2 =  - \\frac{(ak)^2}{\\ell^2} x\\,e^{-x^2 / \\ell^2}  \\frac{\\cosh{[2k(z+h)]}}{\\cosh^2kh}$$\n",
    "\n",
    "The Stokes drift is defined in terms of the particle displacement $\\boldsymbol{\\xi}_{1t} = \\boldsymbol{u}_1$,\n",
    "\n",
    "$$ \\xi_1 = - \\frac{a k}{\\sigma - k \\sigma_k} e^{-x^2 / 2 \\ell^2} \\cos \\left [ kx - (\\sigma - k \\sigma_k) t \\right ] \\frac{\\cosh{[k(z+h)]}}{\\cosh kh}\n",
    "\\qquad \\text{and} \\qquad\n",
    "\\zeta_1 = - \\frac{a k}{\\sigma - k \\sigma_k} e^{-x^2 / 2 \\ell^2} \\sin \\left [ kx - (\\sigma - k \\sigma_k ) t \\right ] \\frac{\\sinh{[k(z+h)]}}{\\cosh kh}$$\n",
    "\n",
    "$$ \\boldsymbol{u}^\\mathrm{S} = \\overline{ \\boldsymbol{\\xi}_1 \\cdot \\boldsymbol{\\nabla} \\boldsymbol{u}_1} = \\overline{\\xi_1 u_{1x}} + \\overline{\\zeta_1 w_{1z}} = \\frac{k (ak)^2}{2(\\sigma - k \\sigma_k)} e^{-x^2 / \\ell^2} \\frac{\\cosh^2[k(z+h)]}{2\\cosh^2h k}$$\n"
   ]
  },
  {
   "cell_type": "code",
   "execution_count": 4,
   "metadata": {},
   "outputs": [
    {
     "name": "stdout",
     "output_type": "stream",
     "text": [
      "2020-04-19 16:59:32,573 pencil 0/1 INFO :: Building pencil matrix 1/16 (~6%) Elapsed: 0s, Remaining: 0s, Rate: 1.5e+02/s\n",
      "2020-04-19 16:59:32,584 pencil 0/1 INFO :: Building pencil matrix 2/16 (~12%) Elapsed: 0s, Remaining: 0s, Rate: 1.1e+02/s\n",
      "2020-04-19 16:59:32,603 pencil 0/1 INFO :: Building pencil matrix 4/16 (~25%) Elapsed: 0s, Remaining: 0s, Rate: 1.1e+02/s\n",
      "2020-04-19 16:59:32,622 pencil 0/1 INFO :: Building pencil matrix 6/16 (~38%) Elapsed: 0s, Remaining: 0s, Rate: 1.1e+02/s\n",
      "2020-04-19 16:59:32,644 pencil 0/1 INFO :: Building pencil matrix 8/16 (~50%) Elapsed: 0s, Remaining: 0s, Rate: 1.0e+02/s\n",
      "2020-04-19 16:59:32,663 pencil 0/1 INFO :: Building pencil matrix 10/16 (~62%) Elapsed: 0s, Remaining: 0s, Rate: 1.0e+02/s\n",
      "2020-04-19 16:59:32,681 pencil 0/1 INFO :: Building pencil matrix 12/16 (~75%) Elapsed: 0s, Remaining: 0s, Rate: 1.0e+02/s\n",
      "2020-04-19 16:59:32,699 pencil 0/1 INFO :: Building pencil matrix 14/16 (~88%) Elapsed: 0s, Remaining: 0s, Rate: 1.1e+02/s\n",
      "2020-04-19 16:59:32,715 pencil 0/1 INFO :: Building pencil matrix 16/16 (~100%) Elapsed: 0s, Remaining: 0s, Rate: 1.1e+02/s\n"
     ]
    }
   ],
   "source": [
    "problem = de.LBVP(domain, variables=['Φ', 'Φz'])\n",
    "\n",
    "problem.parameters[\"k\"] = k\n",
    "problem.parameters[\"h\"] = h\n",
    "\n",
    "problem.substitutions[\"dx_u1_squared\"] = \"- exp(-x**2) * x * (1 + (tanh(k*h)**2))\"\n",
    "\n",
    "problem.add_equation(\"dx(dx(Φ)) + dz(Φz) = 0\", condition=\"(nx != 0)\")\n",
    "\n",
    "problem.add_equation(\"Φ = 0\", condition=\"(nx == 0)\")\n",
    "problem.add_equation(\"Φz = 0\", condition=\"(nx == 0)\")\n",
    "problem.add_equation(\"dz(Φ) - Φz = 0\", condition=\"(nx != 0)\")\n",
    "\n",
    "problem.add_bc(\"left(Φz) = 0\", condition=\"(nx != 0)\")\n",
    "problem.add_bc(\"right(Φz) = dx_u1_squared\", condition=\"(nx != 0)\")\n",
    "\n",
    "#problem.add_equation(\"dx(dx(ϕ)) + dy(dy(ϕ)) + dz(ϕz) = 0\",\n",
    "#                     condition=\"(nx != 0) or (ny != 0)\")\n",
    "\n",
    "#problem.add_equation(\"ϕ = 0\", condition=\"(nx == 0) and (ny == 0)\")\n",
    "#problem.add_equation(\"ϕz = 0\", condition=\"(nx == 0) and (ny == 0)\")\n",
    "#problem.add_equation(\"dz(ϕ) - ϕz = 0\", condition=\"(nx != 0) or (ny != 0)\")\n",
    "\n",
    "#problem.add_bc(\"left(ϕz) = 0\", condition=\"(nx != 0) or (ny != 0)\")\n",
    "#problem.add_bc(\"right(ϕz) = dx_u1_squared\", condition=\"(nx != 0) or (ny != 0)\")\n",
    "\n",
    "# Build solver\n",
    "solver = problem.build_solver()\n",
    "solver.solve()"
   ]
  },
  {
   "cell_type": "code",
   "execution_count": 5,
   "metadata": {},
   "outputs": [
    {
     "name": "stdout",
     "output_type": "stream",
     "text": [
      "2020-04-19 16:59:32,833 pencil 0/1 INFO :: Building pencil matrix 1/16 (~6%) Elapsed: 0s, Remaining: 0s, Rate: 1.5e+02/s\n",
      "2020-04-19 16:59:32,844 pencil 0/1 INFO :: Building pencil matrix 2/16 (~12%) Elapsed: 0s, Remaining: 0s, Rate: 1.2e+02/s\n",
      "2020-04-19 16:59:32,861 pencil 0/1 INFO :: Building pencil matrix 4/16 (~25%) Elapsed: 0s, Remaining: 0s, Rate: 1.2e+02/s\n",
      "2020-04-19 16:59:32,877 pencil 0/1 INFO :: Building pencil matrix 6/16 (~38%) Elapsed: 0s, Remaining: 0s, Rate: 1.2e+02/s\n",
      "2020-04-19 16:59:32,893 pencil 0/1 INFO :: Building pencil matrix 8/16 (~50%) Elapsed: 0s, Remaining: 0s, Rate: 1.2e+02/s\n",
      "2020-04-19 16:59:32,909 pencil 0/1 INFO :: Building pencil matrix 10/16 (~62%) Elapsed: 0s, Remaining: 0s, Rate: 1.2e+02/s\n",
      "2020-04-19 16:59:32,925 pencil 0/1 INFO :: Building pencil matrix 12/16 (~75%) Elapsed: 0s, Remaining: 0s, Rate: 1.2e+02/s\n",
      "2020-04-19 16:59:32,941 pencil 0/1 INFO :: Building pencil matrix 14/16 (~88%) Elapsed: 0s, Remaining: 0s, Rate: 1.2e+02/s\n",
      "2020-04-19 16:59:32,957 pencil 0/1 INFO :: Building pencil matrix 16/16 (~100%) Elapsed: 0s, Remaining: 0s, Rate: 1.2e+02/s\n"
     ]
    }
   ],
   "source": [
    "problem2 = de.LBVP(domain, variables=['ψ', 'ψz'])\n",
    "\n",
    "Φz = solver.state['Φz']\n",
    "\n",
    "problem2.parameters[\"Φz\"] = Φz\n",
    "\n",
    "problem2.add_equation(\"dx(dx(ψ)) + dz(ψz) = 0\", condition=\"(nx != 0)\")\n",
    "\n",
    "problem2.add_equation(\"ψ = 0\", condition=\"(nx == 0)\")\n",
    "problem2.add_equation(\"ψz = 0\", condition=\"(nx == 0)\")\n",
    "problem2.add_equation(\"dz(ψ) - ψz = 0\", condition=\"(nx != 0)\")\n",
    "\n",
    "problem2.add_bc(\"left(dx(ψ)) = 0\", condition=\"(nx != 0)\")\n",
    "problem2.add_bc(\"right(dx(ψ)) = interp(Φz, z=0)\", condition=\"(nx != 0)\")\n",
    "\n",
    "# Build solver\n",
    "solver2 = problem2.build_solver()\n",
    "solver2.solve()"
   ]
  },
  {
   "cell_type": "code",
   "execution_count": 6,
   "metadata": {},
   "outputs": [],
   "source": [
    "Φ = solver.state['Φ']\n",
    "ψ = solver2.state['ψ']\n",
    "\n",
    "u_op = de.operators.differentiate(Φ, x=1)\n",
    "w_op = de.operators.differentiate(Φ, z=1)\n",
    "\n",
    "u = u_op.evaluate()\n",
    "w = w_op.evaluate()"
   ]
  },
  {
   "cell_type": "code",
   "execution_count": 9,
   "metadata": {},
   "outputs": [
    {
     "data": {
      "image/png": "[encoded data removed]",
      "text/plain": [
       "<Figure size 1152x432 with 1 Axes>"
      ]
     },
     "metadata": {
      "needs_background": "light"
     },
     "output_type": "display_data"
    }
   ],
   "source": [
    "# Plot solution\n",
    "plt.rcParams.update({'font.size': 12})\n",
    "\n",
    "fig, axs = plt.subplots(ncols=1, figsize=(16, 6), sharey=True) \n",
    "scale = 4 \n",
    "\n",
    "x = domain.grid(0, scales=scale)\n",
    "#y = domain.grid(1, scales=scale)\n",
    "z = domain.grid(1, scales=scale)\n",
    "\n",
    "X, Z = np.meshgrid(x, z)\n",
    "\n",
    "Φ.set_scales(scale)\n",
    "Φ.require_grid_space()\n",
    "\n",
    "ψ.set_scales(scale)\n",
    "ψ.require_grid_space()\n",
    "\n",
    "u.set_scales(scale)\n",
    "u.require_grid_space()\n",
    "\n",
    "w.set_scales(scale)\n",
    "w.require_grid_space()\n",
    "\n",
    "ulim = 0.6\n",
    "levs = np.linspace(-1, 1, 50)\n",
    "\n",
    "plt.sca(axs)\n",
    "\n",
    "im0 = plt.contourf(X, Z, u['g'][:, :].T, cmap=\"RdBu_r\", vmin=-ulim, vmax=ulim, levels=levs)"
   ]
  },
  {
   "cell_type": "code",
   "execution_count": null,
   "metadata": {},
   "outputs": [],
   "source": []
  }
 ],
 "metadata": {
  "kernelspec": {
   "display_name": "Python 3",
   "language": "python",
   "name": "python3"
  },
  "language_info": {
   "codemirror_mode": {
    "name": "ipython",
    "version": 3
   },
   "file_extension": ".py",
   "mimetype": "text/x-python",
   "name": "python",
   "nbconvert_exporter": "python",
   "pygments_lexer": "ipython3",
   "version": "3.8.2"
  }
 },
 "nbformat": 4,
 "nbformat_minor": 4
}

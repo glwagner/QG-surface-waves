{
 "cells": [
  {
   "cell_type": "code",
   "execution_count": 55,
   "metadata": {},
   "outputs": [],
   "source": [
    "import os\n",
    "import numpy as np\n",
    "import matplotlib.pyplot as plt \n",
    "\n",
    "from dedalus import public as de\n",
    "from dedalus.extras import plot_tools"
   ]
  },
  {
   "cell_type": "code",
   "execution_count": 99,
   "metadata": {},
   "outputs": [],
   "source": [
    "# Domain\n",
    "L = 20\n",
    "h = 1\n",
    "\n",
    "# Wavenumber\n",
    "k = 0.1\n",
    "\n",
    "# Numerics\n",
    "nx = 32\n",
    "nz = 32"
   ]
  },
  {
   "cell_type": "code",
   "execution_count": 100,
   "metadata": {},
   "outputs": [],
   "source": [
    "# Create bases and domain\n",
    "x_basis = de.Fourier('x',   nx, interval=(-L/2, L/2))\n",
    "#y_basis = de.Fourier('y',   nx, interval=(-L/2, L/2))\n",
    "z_basis = de.Chebyshev('z', nz, interval=(-h, 0)) \n",
    "\n",
    "domain = de.Domain([x_basis, z_basis], grid_dtype=np.float64)"
   ]
  },
  {
   "cell_type": "markdown",
   "metadata": {},
   "source": [
    "# The McIntyre flow\n",
    "\n",
    "We solve Laplace's equation for $\\phi_2$ with a Neumann bottom boundary condition and a top boundary condition\n",
    "\n",
    "$$ \\phi_{2z} = \\frac{\\sigma_k}{g} \\partial_x \\overline{ | \\boldsymbol{u}_1 |^2 }$$\n",
    "\n",
    "at $z=0$.\n",
    "$\\boldsymbol{u} = \\nabla \\phi_1$, where\n",
    "\n",
    "$$ \\phi_1(x, z, t) = a e^{-x^2 / 2 \\ell^2} \\cos(kx + k \\sigma_k t - \\sigma t ) \\frac{\\cosh k(z+h)}{\\cosh kh} $$\n",
    "\n",
    "This means that\n",
    "\n",
    "$$ u_1 \\approx - a k e^{-x^2 / 2 \\ell^2} \\sin \\left [ kx - (\\sigma - k \\sigma_k) t \\right ] \n",
    "\\qquad \\text{and} \\qquad \n",
    "w_1 = a k \\tanh(kh) e^{-x^2 / 2 \\ell^2} \\cos \\left [ kx - (\\sigma - k \\sigma_k ) t \\right ] $$\n",
    "\n",
    "at $z=0$.\n",
    "Therefore\n",
    "\n",
    "$$ | \\boldsymbol{u}_1 |^2 = u_1^2 + w_1^2 = \\frac{1}{2} (a k)^2 e^{-x^2 / \\ell^2} \\left ( 1 + \\tanh^2 k h \\right )$$\n",
    "\n",
    "and\n",
    "\n",
    "$$ \\partial_x | \\boldsymbol{u}_1 |^2 =  - \\frac{(ak)^2}{\\ell^2} e^{-x^2 / \\ell^2} x \\left ( 1 + \\tanh^2 k h \\right ) $$\n",
    "\n",
    "The Stokes drift is defined in terms of the particle displacement $\\boldsymbol{\\xi}_{1t} = \\boldsymbol{u}_1$,\n",
    "\n",
    "$$ \\xi_1 =  - \\frac{a k}{\\sigma - k \\sigma_k} e^{-x^2 / 2 \\ell^2} \\cos \\left [ kx - (\\sigma - k \\sigma_k) t \\right ] \n",
    "\\qquad \\text{and} \\qquad\n",
    "\\zeta_1 = - \\frac{a k}{\\sigma - k \\sigma_k} \\tanh(kh) e^{-x^2 / 2 \\ell^2} \\sin \\left [ kx - (\\sigma - k \\sigma_k ) t \\right ]$$\n",
    "\n",
    "$$ \\boldsymbol{u}^\\mathrm{S} = \\overline{ \\boldsymbol{\\xi}_1 \\cdot \\nabla \\boldsymbol{u}_1} = \\overline{\\xi_1 u_{1x}} + \\overline{\\zeta_1 w_{1z}} = \\frac{k (ak)^2}{2(\\sigma - k \\sigma_k)} e^{-x^2 / \\ell^2} \\frac{ \\cosh k(z+h) + \\tanh kh \\sinh k(z+h)}{\\cosh kh}$$\n"
   ]
  },
  {
   "cell_type": "code",
   "execution_count": 101,
   "metadata": {},
   "outputs": [
    {
     "name": "stdout",
     "output_type": "stream",
     "text": [
      "2020-04-19 00:39:57,291 pencil 0/1 INFO :: Building pencil matrix 1/16 (~6%) Elapsed: 0s, Remaining: 0s, Rate: 1.1e+02/s\n",
      "2020-04-19 00:39:57,307 pencil 0/1 INFO :: Building pencil matrix 2/16 (~12%) Elapsed: 0s, Remaining: 0s, Rate: 8.0e+01/s\n",
      "2020-04-19 00:39:57,335 pencil 0/1 INFO :: Building pencil matrix 4/16 (~25%) Elapsed: 0s, Remaining: 0s, Rate: 7.5e+01/s\n",
      "2020-04-19 00:39:57,363 pencil 0/1 INFO :: Building pencil matrix 6/16 (~38%) Elapsed: 0s, Remaining: 0s, Rate: 7.4e+01/s\n",
      "2020-04-19 00:39:57,390 pencil 0/1 INFO :: Building pencil matrix 8/16 (~50%) Elapsed: 0s, Remaining: 0s, Rate: 7.4e+01/s\n",
      "2020-04-19 00:39:57,413 pencil 0/1 INFO :: Building pencil matrix 10/16 (~62%) Elapsed: 0s, Remaining: 0s, Rate: 7.6e+01/s\n",
      "2020-04-19 00:39:57,437 pencil 0/1 INFO :: Building pencil matrix 12/16 (~75%) Elapsed: 0s, Remaining: 0s, Rate: 7.7e+01/s\n",
      "2020-04-19 00:39:57,465 pencil 0/1 INFO :: Building pencil matrix 14/16 (~88%) Elapsed: 0s, Remaining: 0s, Rate: 7.7e+01/s\n",
      "2020-04-19 00:39:57,493 pencil 0/1 INFO :: Building pencil matrix 16/16 (~100%) Elapsed: 0s, Remaining: 0s, Rate: 7.6e+01/s\n"
     ]
    }
   ],
   "source": [
    "problem = de.LBVP(domain, variables=['Φ', 'Φz'])\n",
    "\n",
    "problem.parameters[\"k\"] = k\n",
    "problem.parameters[\"h\"] = h\n",
    "\n",
    "problem.substitutions[\"dx_u1_squared\"] = \"- exp(-x**2) * x * (1 + (tanh(k*h)**2))\"\n",
    "\n",
    "problem.add_equation(\"dx(dx(Φ)) + dz(Φz) = 0\", condition=\"(nx != 0)\")\n",
    "\n",
    "problem.add_equation(\"Φ = 0\", condition=\"(nx == 0)\")\n",
    "problem.add_equation(\"Φz = 0\", condition=\"(nx == 0)\")\n",
    "problem.add_equation(\"dz(Φ) - Φz = 0\", condition=\"(nx != 0)\")\n",
    "\n",
    "problem.add_bc(\"left(Φz) = 0\", condition=\"(nx != 0)\")\n",
    "problem.add_bc(\"right(Φz) = dx_u1_squared\", condition=\"(nx != 0)\")\n",
    "\n",
    "#problem.add_equation(\"dx(dx(ϕ)) + dy(dy(ϕ)) + dz(ϕz) = 0\",\n",
    "#                     condition=\"(nx != 0) or (ny != 0)\")\n",
    "\n",
    "#problem.add_equation(\"ϕ = 0\", condition=\"(nx == 0) and (ny == 0)\")\n",
    "#problem.add_equation(\"ϕz = 0\", condition=\"(nx == 0) and (ny == 0)\")\n",
    "#problem.add_equation(\"dz(ϕ) - ϕz = 0\", condition=\"(nx != 0) or (ny != 0)\")\n",
    "\n",
    "#problem.add_bc(\"left(ϕz) = 0\", condition=\"(nx != 0) or (ny != 0)\")\n",
    "#problem.add_bc(\"right(ϕz) = dx_u1_squared\", condition=\"(nx != 0) or (ny != 0)\")\n",
    "\n",
    "# Build solver\n",
    "solver = problem.build_solver()\n",
    "solver.solve()"
   ]
  },
  {
   "cell_type": "code",
   "execution_count": 102,
   "metadata": {},
   "outputs": [
    {
     "name": "stdout",
     "output_type": "stream",
     "text": [
      "2020-04-19 00:39:57,527 pencil 0/1 INFO :: Building pencil matrix 1/16 (~6%) Elapsed: 0s, Remaining: 0s, Rate: 1.3e+02/s\n",
      "2020-04-19 00:39:57,542 pencil 0/1 INFO :: Building pencil matrix 2/16 (~12%) Elapsed: 0s, Remaining: 0s, Rate: 9.0e+01/s\n",
      "2020-04-19 00:39:57,567 pencil 0/1 INFO :: Building pencil matrix 4/16 (~25%) Elapsed: 0s, Remaining: 0s, Rate: 8.4e+01/s\n",
      "2020-04-19 00:39:57,595 pencil 0/1 INFO :: Building pencil matrix 6/16 (~38%) Elapsed: 0s, Remaining: 0s, Rate: 7.9e+01/s\n",
      "2020-04-19 00:39:57,625 pencil 0/1 INFO :: Building pencil matrix 8/16 (~50%) Elapsed: 0s, Remaining: 0s, Rate: 7.6e+01/s\n",
      "2020-04-19 00:39:57,651 pencil 0/1 INFO :: Building pencil matrix 10/16 (~62%) Elapsed: 0s, Remaining: 0s, Rate: 7.6e+01/s\n",
      "2020-04-19 00:39:57,675 pencil 0/1 INFO :: Building pencil matrix 12/16 (~75%) Elapsed: 0s, Remaining: 0s, Rate: 7.7e+01/s\n",
      "2020-04-19 00:39:57,699 pencil 0/1 INFO :: Building pencil matrix 14/16 (~88%) Elapsed: 0s, Remaining: 0s, Rate: 7.8e+01/s\n",
      "2020-04-19 00:39:57,722 pencil 0/1 INFO :: Building pencil matrix 16/16 (~100%) Elapsed: 0s, Remaining: 0s, Rate: 7.9e+01/s\n"
     ]
    }
   ],
   "source": [
    "problem2 = de.LBVP(domain, variables=['ψ', 'ψz'])\n",
    "\n",
    "Φz = solver.state['Φz']\n",
    "\n",
    "problem2.parameters[\"Φz\"] = Φz\n",
    "\n",
    "problem2.add_equation(\"dx(dx(ψ)) + dz(ψz) = 0\", condition=\"(nx != 0)\")\n",
    "\n",
    "problem2.add_equation(\"ψ = 0\", condition=\"(nx == 0)\")\n",
    "problem2.add_equation(\"ψz = 0\", condition=\"(nx == 0)\")\n",
    "problem2.add_equation(\"dz(ψ) - ψz = 0\", condition=\"(nx != 0)\")\n",
    "\n",
    "problem2.add_bc(\"left(dx(ψ)) = 0\", condition=\"(nx != 0)\")\n",
    "problem2.add_bc(\"right(dx(ψ)) = interp(Φz, z=0)\", condition=\"(nx != 0)\")\n",
    "\n",
    "# Build solver\n",
    "solver2 = problem2.build_solver()\n",
    "solver2.solve()"
   ]
  },
  {
   "cell_type": "code",
   "execution_count": 103,
   "metadata": {},
   "outputs": [],
   "source": [
    "Φ = solver.state['Φ']\n",
    "ψ = solver2.state['ψ']\n",
    "\n",
    "u_op = de.operators.differentiate(Φ, x=1)\n",
    "w_op = de.operators.differentiate(Φ, z=1)\n",
    "\n",
    "u = u_op.evaluate()\n",
    "w = w_op.evaluate()"
   ]
  },
  {
   "cell_type": "code",
   "execution_count": 105,
   "metadata": {},
   "outputs": [
    {
     "data": {
      "image/png": "[encoded data removed]",
      "text/plain": [
       "<Figure size 1152x432 with 1 Axes>"
      ]
     },
     "metadata": {
      "needs_background": "light"
     },
     "output_type": "display_data"
    }
   ],
   "source": [
    "# Plot solution\n",
    "plt.rcParams.update({'font.size': 12})\n",
    "\n",
    "fig, axs = plt.subplots(ncols=1, figsize=(16, 6), sharey=True) \n",
    "scale = 4 \n",
    "\n",
    "x = domain.grid(0, scales=scale)\n",
    "#y = domain.grid(1, scales=scale)\n",
    "z = domain.grid(1, scales=scale)\n",
    "\n",
    "X, Z = np.meshgrid(x, z)\n",
    "\n",
    "Φ.set_scales(scale)\n",
    "Φ.require_grid_space()\n",
    "\n",
    "ψ.set_scales(scale)\n",
    "ψ.require_grid_space()\n",
    "\n",
    "u.set_scales(scale)\n",
    "u.require_grid_space()\n",
    "\n",
    "w.set_scales(scale)\n",
    "w.require_grid_space()\n",
    "\n",
    "ulim = 0.6\n",
    "levs = np.linspace(-1, 1, 50)\n",
    "\n",
    "plt.sca(axs)\n",
    "\n",
    "im0 = plt.contourf(X, Z, u['g'][:, :].T, cmap=\"RdBu_r\", vmin=-ulim, vmax=ulim, levels=levs)"
   ]
  },
  {
   "cell_type": "code",
   "execution_count": 80,
   "metadata": {},
   "outputs": [
    {
     "ename": "NameError",
     "evalue": "name 'US' is not defined",
     "output_type": "error",
     "traceback": [
      "\u001b[0;31m---------------------------------------------------------------------------\u001b[0m",
      "\u001b[0;31mNameError\u001b[0m                                 Traceback (most recent call last)",
      "\u001b[0;32m<ipython-input-80-31a871d5ac90>\u001b[0m in \u001b[0;36m<module>\u001b[0;34m\u001b[0m\n\u001b[1;32m     14\u001b[0m \u001b[0;34m\u001b[0m\u001b[0m\n\u001b[1;32m     15\u001b[0m levs = np.array([-1, -0.9, -0.8, -0.7, -0.6, -0.5, -0.4, -0.3, -0.2, -0.1, -0.02, \n\u001b[0;32m---> 16\u001b[0;31m                  0.02, 0.1, 0.2, 0.3, 0.4, 0.5, 0.6, 0.7, 0.8, 0.9, 1.0]) * US\n\u001b[0m\u001b[1;32m     17\u001b[0m \u001b[0;34m\u001b[0m\u001b[0m\n\u001b[1;32m     18\u001b[0m \u001b[0mulim\u001b[0m \u001b[0;34m=\u001b[0m \u001b[0;36m0.8\u001b[0m \u001b[0;34m*\u001b[0m \u001b[0mUS\u001b[0m\u001b[0;34m\u001b[0m\u001b[0;34m\u001b[0m\u001b[0m\n",
      "\u001b[0;31mNameError\u001b[0m: name 'US' is not defined"
     ]
    },
    {
     "data": {
      "image/png": "[encoded data removed]",
      "text/plain": [
       "<Figure size 1296x432 with 3 Axes>"
      ]
     },
     "metadata": {
      "needs_background": "light"
     },
     "output_type": "display_data"
    }
   ],
   "source": [
    "fig, axs = plt.subplots(nrows=3, figsize=(18, 6), sharex=True) \n",
    "\n",
    "uS_meridian_op = de.operators.interpolate(uS, x=0)\n",
    "uS_meridian = uS_meridian_op.evaluate()\n",
    "uS_meridian.set_scales(scale)\n",
    "\n",
    "u_meridian_op = de.operators.interpolate(u, x=0)\n",
    "u_meridian = u_meridian_op.evaluate()\n",
    "u_meridian.set_scales(scale)\n",
    "\n",
    "uM_meridian_op = de.operators.interpolate(uM, x=0)\n",
    "uM_meridian = uM_meridian_op.evaluate()\n",
    "uM_meridian.set_scales(scale)\n",
    "\n",
    "levs = np.array([-1, -0.9, -0.8, -0.7, -0.6, -0.5, -0.4, -0.3, -0.2, -0.1, -0.02, \n",
    "                 0.02, 0.1, 0.2, 0.3, 0.4, 0.5, 0.6, 0.7, 0.8, 0.9, 1.0]) * US\n",
    "\n",
    "ulim = 0.8 * US\n",
    "\n",
    "plt.sca(axs[0])\n",
    "\n",
    "im0 = plt.contourf(Yz, Zy, uS_meridian['g'][-1, :, :].T, cmap=\"RdBu_r\", vmin=-ulim, vmax=ulim,\n",
    "                   levels=levs)\n",
    "\n",
    "plt.text(0.01, 0.04, '$ u \\, |_{t=0} = u^\\\\mathrm{S} $', horizontalalignment='left',\n",
    "         verticalalignment='bottom', transform=axs[0].transAxes, fontsize=16)\n",
    "\n",
    "plt.sca(axs[1])\n",
    "\n",
    "im1 = plt.contourf(Yz, Zy, u_meridian['g'][-1, :, :].T, cmap=\"RdBu_r\", vmin=-ulim, vmax=ulim,\n",
    "                   levels=levs)\n",
    "\n",
    "plt.text(0.01, 0.04, '$ \\\\tilde u $', horizontalalignment='left',\n",
    "         verticalalignment='bottom', transform=axs[1].transAxes, fontsize=16)\n",
    "\n",
    "plt.sca(axs[2])\n",
    "im2 = plt.contourf(Yz, Zy, uM_meridian['g'][32, :, :].T, cmap=\"RdBu_r\", vmin=-ulim, vmax=ulim,\n",
    "                   levels=levs)\n",
    "\n",
    "plt.text(0.01, 0.04, '$ u^\\\\dagger = u^\\\\mathrm{S} - \\\\tilde u$', horizontalalignment='left',\n",
    "         verticalalignment='bottom', transform=axs[2].transAxes, fontsize=16)\n",
    "\n",
    "axs[0].set_ylim(-H/2, 0.00)\n",
    "axs[1].set_ylim(-H/2, 0.00)\n",
    "axs[2].set_ylim(-H/2, 0.00)\n",
    "\n",
    "#axs[1].set_xlim(-L/4, L/4)\n",
    "#axs[2].set_xlim(-L/4, L/4)\n",
    "\n",
    "axs[0].tick_params(bottom=False, labelbottom=False)\n",
    "axs[1].tick_params(bottom=False, labelbottom=False)\n",
    "\n",
    "α = 1\n",
    "axs[0].set_aspect(α)\n",
    "axs[1].set_aspect(α)\n",
    "axs[2].set_aspect(α)\n",
    "\n",
    "axs[1].set_ylabel(\"$ z $\")\n",
    "axs[2].set_ylabel(\"$ z $\")\n",
    "axs[2].set_xlabel(\"$ y $\")\n",
    "\n",
    "cbar = fig.colorbar(im2, ax=axs.ravel().tolist(), shrink=0.95)"
   ]
  },
  {
   "cell_type": "code",
   "execution_count": null,
   "metadata": {},
   "outputs": [],
   "source": []
  },
  {
   "cell_type": "code",
   "execution_count": null,
   "metadata": {},
   "outputs": [],
   "source": []
  },
  {
   "cell_type": "code",
   "execution_count": null,
   "metadata": {},
   "outputs": [],
   "source": []
  }
 ],
 "metadata": {
  "kernelspec": {
   "display_name": "Python 3",
   "language": "python",
   "name": "python3"
  },
  "language_info": {
   "codemirror_mode": {
    "name": "ipython",
    "version": 3
   },
   "file_extension": ".py",
   "mimetype": "text/x-python",
   "name": "python",
   "nbconvert_exporter": "python",
   "pygments_lexer": "ipython3",
   "version": "3.8.2"
  }
 },
 "nbformat": 4,
 "nbformat_minor": 4
}

{
 "cells": [
  {
   "cell_type": "code",
   "execution_count": 1,
   "metadata": {},
   "outputs": [],
   "source": [
    "import numpy as np\n",
    "import matplotlib.pyplot as plt \n",
    "\n",
    "from dedalus import public as de\n",
    "from dedalus.extras import plot_tools\n",
    "\n",
    "from bretherton_tools import create_domain, make_solver, x_velocities, surface_grid\n",
    "from bretherton_tools import meridional_grid, interpolated_x_velocities"
   ]
  },
  {
   "cell_type": "code",
   "execution_count": 2,
   "metadata": {},
   "outputs": [
    {
     "name": "stdout",
     "output_type": "stream",
     "text": [
      "2020-04-09 17:52:15,901 pencil 0/1 INFO :: Building pencil matrix 1/496 (~0%) Elapsed: 0s, Remaining: 3s, Rate: 1.9e+02/s\n",
      "2020-04-09 17:52:16,226 pencil 0/1 INFO :: Building pencil matrix 50/496 (~10%) Elapsed: 0s, Remaining: 3s, Rate: 1.5e+02/s\n",
      "2020-04-09 17:52:16,558 pencil 0/1 INFO :: Building pencil matrix 100/496 (~20%) Elapsed: 1s, Remaining: 3s, Rate: 1.5e+02/s\n",
      "2020-04-09 17:52:16,910 pencil 0/1 INFO :: Building pencil matrix 150/496 (~30%) Elapsed: 1s, Remaining: 2s, Rate: 1.5e+02/s\n",
      "2020-04-09 17:52:17,263 pencil 0/1 INFO :: Building pencil matrix 200/496 (~40%) Elapsed: 1s, Remaining: 2s, Rate: 1.5e+02/s\n",
      "2020-04-09 17:52:17,608 pencil 0/1 INFO :: Building pencil matrix 250/496 (~50%) Elapsed: 2s, Remaining: 2s, Rate: 1.5e+02/s\n",
      "2020-04-09 17:52:17,963 pencil 0/1 INFO :: Building pencil matrix 300/496 (~60%) Elapsed: 2s, Remaining: 1s, Rate: 1.5e+02/s\n",
      "2020-04-09 17:52:18,321 pencil 0/1 INFO :: Building pencil matrix 350/496 (~71%) Elapsed: 2s, Remaining: 1s, Rate: 1.4e+02/s\n",
      "2020-04-09 17:52:18,666 pencil 0/1 INFO :: Building pencil matrix 400/496 (~81%) Elapsed: 3s, Remaining: 1s, Rate: 1.4e+02/s\n",
      "2020-04-09 17:52:19,007 pencil 0/1 INFO :: Building pencil matrix 450/496 (~91%) Elapsed: 3s, Remaining: 0s, Rate: 1.4e+02/s\n",
      "2020-04-09 17:52:19,310 pencil 0/1 INFO :: Building pencil matrix 496/496 (~100%) Elapsed: 3s, Remaining: 0s, Rate: 1.5e+02/s\n"
     ]
    }
   ],
   "source": [
    "domain = create_domain()\n",
    "solver = make_solver(domain)"
   ]
  },
  {
   "cell_type": "code",
   "execution_count": 3,
   "metadata": {},
   "outputs": [
    {
     "ename": "NameError",
     "evalue": "name 'ulim' is not defined",
     "output_type": "error",
     "traceback": [
      "\u001b[0;31m---------------------------------------------------------------------------\u001b[0m",
      "\u001b[0;31mNameError\u001b[0m                                 Traceback (most recent call last)",
      "\u001b[0;32m<ipython-input-3-650c00ce23b6>\u001b[0m in \u001b[0;36m<module>\u001b[0;34m\u001b[0m\n\u001b[1;32m     16\u001b[0m \u001b[0;34m\u001b[0m\u001b[0m\n\u001b[1;32m     17\u001b[0m im0 = plt.contourf(X, Y, uS_surface['g'][:, :, -1].T / US, cmap=\"RdBu_r\", \n\u001b[0;32m---> 18\u001b[0;31m                   levels=levs, vmin=-ulim, vmax=ulim)\n\u001b[0m\u001b[1;32m     19\u001b[0m \u001b[0;34m\u001b[0m\u001b[0m\n\u001b[1;32m     20\u001b[0m \u001b[0mplt\u001b[0m\u001b[0;34m.\u001b[0m\u001b[0msca\u001b[0m\u001b[0;34m(\u001b[0m\u001b[0maxs\u001b[0m\u001b[0;34m[\u001b[0m\u001b[0;36m1\u001b[0m\u001b[0;34m]\u001b[0m\u001b[0;34m)\u001b[0m\u001b[0;34m\u001b[0m\u001b[0;34m\u001b[0m\u001b[0m\n",
      "\u001b[0;31mNameError\u001b[0m: name 'ulim' is not defined"
     ]
    },
    {
     "data": {
      "image/png": "[encoded data removed]",
      "text/plain": [
       "<Figure size 1152x432 with 3 Axes>"
      ]
     },
     "metadata": {
      "needs_background": "light"
     },
     "output_type": "display_data"
    }
   ],
   "source": [
    "US = solver.problem.parameters['US']\n",
    "\n",
    "X, Y = meridional_grid(solver, scale=4)\n",
    "\n",
    "ψL_surface, uL_surface, uM_surface, uS_surface = interpolated_x_velocities(solver, scale=4, z=0)\n",
    "\n",
    "# Plot solution\n",
    "plt.rcParams.update({'font.size': 12})\n",
    "\n",
    "fig, axs = plt.subplots(ncols=3, figsize=(16, 6), sharey=True) \n",
    "\n",
    "levs = np.array([-1, -0.9, -0.8, -0.7, -0.6, -0.5, -0.4, -0.3, -0.2, -0.1, -0.02, \n",
    "                 0.02, 0.1, 0.2, 0.3, 0.4, 0.5, 0.6, 0.7, 0.8, 0.9, 1.0]) * US\n",
    "\n",
    "plt.sca(axs[0])\n",
    "\n",
    "im0 = plt.contourf(X, Y, uS_surface['g'][:, :, -1].T / US, cmap=\"RdBu_r\", \n",
    "                  levels=levs, vmin=-ulim, vmax=ulim)\n",
    "\n",
    "plt.sca(axs[1])\n",
    "\n",
    "im0 = plt.contourf(X, Y, uL_surface['g'][:, :, -1].T / US, cmap=\"RdBu_r\", \n",
    "                  levels=levs, vmin=-ulim, vmax=ulim)\n",
    "\n",
    "plt.contour(X, Y, ψL_surface['g'][:, :, -1].T, levels=np.linspace(-ψmax, ψmax, num=6), \n",
    "            colors=\"k\", alpha=0.2)\n",
    "\n",
    "plt.sca(axs[2])\n",
    "im1 = plt.contourf(X, Y, uM_surface['g'][:, :, -1].T / US, cmap=\"RdBu_r\",\n",
    "                   levels=levs, vmin=-ulim, vmax=ulim)\n",
    "\n",
    "cb = plt.colorbar(im1, ax=axs.ravel().tolist(), shrink=0.95, aspect=50, orientation=\"horizontal\")\n",
    "\n",
    "axs[0].set_aspect(1)\n",
    "axs[1].set_aspect(1)\n",
    "axs[2].set_aspect(1)\n",
    "\n",
    "plt.text(0.04, 0.04, '$ u \\, |_{t=0} = u^\\\\mathrm{S} $', horizontalalignment='left',\n",
    "         verticalalignment='bottom', transform=axs[0].transAxes, fontsize=16)\n",
    "\n",
    "plt.text(0.04, 0.04, '$ \\\\tilde u $', horizontalalignment='left',\n",
    "         verticalalignment='bottom', transform=axs[1].transAxes, fontsize=16)\n",
    "\n",
    "plt.text(0.04, 0.04, '$ u^\\\\dagger = u^\\\\mathrm{S} - \\\\tilde u $', horizontalalignment='left',\n",
    "         verticalalignment='bottom', transform=axs[2].transAxes, fontsize=16)\n",
    "\n",
    "#axs[0].set_title(\"$ u^{\\\\mathrm{S}} $\")\n",
    "#axs[1].set_title(\"$ \\\\tilde{u} $\")\n",
    "#axs[2].set_title(\"$ u^\\\\dagger = u^{\\\\mathrm{S}} - \\\\tilde{u}$\")\n",
    "\n",
    "axs[0].tick_params(left=False, labelleft=False)\n",
    "\n",
    "for ax in axs:\n",
    "    ax.tick_params(bottom=False, labelbottom=False, left=False, labelleft=False)\n",
    "    \n",
    "plt.pause(0.1)\n",
    "\n",
    "plt.gcf()\n",
    "plt.savefig('wave_induced_mediated.png', bbox_inches='tight', dpi=480)"
   ]
  },
  {
   "cell_type": "code",
   "execution_count": null,
   "metadata": {},
   "outputs": [],
   "source": []
  },
  {
   "cell_type": "code",
   "execution_count": null,
   "metadata": {},
   "outputs": [],
   "source": []
  }
 ],
 "metadata": {
  "kernelspec": {
   "display_name": "Python 3",
   "language": "python",
   "name": "python3"
  },
  "language_info": {
   "codemirror_mode": {
    "name": "ipython",
    "version": 3
   },
   "file_extension": ".py",
   "mimetype": "text/x-python",
   "name": "python",
   "nbconvert_exporter": "python",
   "pygments_lexer": "ipython3",
   "version": "3.8.2"
  }
 },
 "nbformat": 4,
 "nbformat_minor": 4
}
